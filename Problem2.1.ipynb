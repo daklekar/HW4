{
 "cells": [
  {
   "cell_type": "code",
   "execution_count": 137,
   "id": "eb535d10",
   "metadata": {},
   "outputs": [],
   "source": [
    "import numpy as np\n",
    "import pandas as pd\n",
    "import matplotlib.pyplot as plt\n",
    "from sklearn.preprocessing import StandardScaler"
   ]
  },
  {
   "cell_type": "code",
   "execution_count": 138,
   "id": "1bfdc55f",
   "metadata": {},
   "outputs": [],
   "source": [
    "data = pd.read_csv(\"C:\\\\Users\\\\dhruv\\\\Downloads\\\\Housing.csv\")"
   ]
  },
  {
   "cell_type": "code",
   "execution_count": 139,
   "id": "a197adc7",
   "metadata": {},
   "outputs": [],
   "source": [
    "dft = data.drop(columns=['furnishingstatus'])\n",
    "col = dft.columns"
   ]
  },
  {
   "cell_type": "code",
   "execution_count": 140,
   "id": "73161ba7",
   "metadata": {},
   "outputs": [],
   "source": [
    "scaler = StandardScaler() "
   ]
  },
  {
   "cell_type": "code",
   "execution_count": 141,
   "id": "65dd9704",
   "metadata": {},
   "outputs": [],
   "source": [
    "#\n",
    "#CREATING BIN_MAP FUNCTION\n",
    "#\n",
    "def bin_map(var):\n",
    "    i = 0\n",
    "    while(i < 545):\n",
    "        if(var[i] == 'yes'):\n",
    "            var[i] = 1\n",
    "        if(var[i] == 'no'):\n",
    "            var[i] = 0\n",
    "        i = i + 1"
   ]
  },
  {
   "cell_type": "code",
   "execution_count": 142,
   "id": "9a28e591",
   "metadata": {
    "scrolled": true
   },
   "outputs": [
    {
     "name": "stderr",
     "output_type": "stream",
     "text": [
      "C:\\Users\\dhruv\\AppData\\Local\\Temp\\ipykernel_10888\\3636318678.py:8: SettingWithCopyWarning: \n",
      "A value is trying to be set on a copy of a slice from a DataFrame\n",
      "\n",
      "See the caveats in the documentation: https://pandas.pydata.org/pandas-docs/stable/user_guide/indexing.html#returning-a-view-versus-a-copy\n",
      "  var[i] = 1\n",
      "C:\\Users\\dhruv\\AppData\\Local\\Temp\\ipykernel_10888\\3636318678.py:10: SettingWithCopyWarning: \n",
      "A value is trying to be set on a copy of a slice from a DataFrame\n",
      "\n",
      "See the caveats in the documentation: https://pandas.pydata.org/pandas-docs/stable/user_guide/indexing.html#returning-a-view-versus-a-copy\n",
      "  var[i] = 0\n"
     ]
    }
   ],
   "source": [
    "#\n",
    "#MAPPING 'YES' AND 'NO' TO '1'S' AND '0'S'\n",
    "#\n",
    "bin_map(dft.mainroad)\n",
    "bin_map(dft.guestroom)\n",
    "bin_map(dft.basement)\n",
    "bin_map(dft.hotwaterheating)\n",
    "bin_map(dft.airconditioning)\n",
    "bin_map(dft.prefarea)"
   ]
  },
  {
   "cell_type": "code",
   "execution_count": 143,
   "id": "375c62c5",
   "metadata": {},
   "outputs": [],
   "source": [
    "dft = scaler.fit_transform(dft)"
   ]
  },
  {
   "cell_type": "code",
   "execution_count": 144,
   "id": "3308cba6",
   "metadata": {},
   "outputs": [],
   "source": [
    "Y = scaler.fit_transform(np.array(data.price).reshape(545,1))\n",
    "Wye = pd.DataFrame(Y)"
   ]
  },
  {
   "cell_type": "code",
   "execution_count": 145,
   "id": "a36325ad",
   "metadata": {},
   "outputs": [
    {
     "data": {
      "text/html": [
       "<div>\n",
       "<style scoped>\n",
       "    .dataframe tbody tr th:only-of-type {\n",
       "        vertical-align: middle;\n",
       "    }\n",
       "\n",
       "    .dataframe tbody tr th {\n",
       "        vertical-align: top;\n",
       "    }\n",
       "\n",
       "    .dataframe thead th {\n",
       "        text-align: right;\n",
       "    }\n",
       "</style>\n",
       "<table border=\"1\" class=\"dataframe\">\n",
       "  <thead>\n",
       "    <tr style=\"text-align: right;\">\n",
       "      <th></th>\n",
       "      <th>price</th>\n",
       "      <th>area</th>\n",
       "      <th>bedrooms</th>\n",
       "      <th>bathrooms</th>\n",
       "      <th>stories</th>\n",
       "      <th>mainroad</th>\n",
       "      <th>guestroom</th>\n",
       "      <th>basement</th>\n",
       "      <th>hotwaterheating</th>\n",
       "      <th>airconditioning</th>\n",
       "      <th>parking</th>\n",
       "      <th>prefarea</th>\n",
       "    </tr>\n",
       "  </thead>\n",
       "  <tbody>\n",
       "    <tr>\n",
       "      <th>0</th>\n",
       "      <td>4.566365</td>\n",
       "      <td>1.046726</td>\n",
       "      <td>1.403419</td>\n",
       "      <td>1.421812</td>\n",
       "      <td>1.378217</td>\n",
       "      <td>0.405623</td>\n",
       "      <td>-0.465315</td>\n",
       "      <td>-0.734539</td>\n",
       "      <td>-0.219265</td>\n",
       "      <td>1.472618</td>\n",
       "      <td>1.517692</td>\n",
       "      <td>1.804941</td>\n",
       "    </tr>\n",
       "    <tr>\n",
       "      <th>1</th>\n",
       "      <td>4.004484</td>\n",
       "      <td>1.757010</td>\n",
       "      <td>1.403419</td>\n",
       "      <td>5.405809</td>\n",
       "      <td>2.532024</td>\n",
       "      <td>0.405623</td>\n",
       "      <td>-0.465315</td>\n",
       "      <td>-0.734539</td>\n",
       "      <td>-0.219265</td>\n",
       "      <td>1.472618</td>\n",
       "      <td>2.679409</td>\n",
       "      <td>-0.554035</td>\n",
       "    </tr>\n",
       "    <tr>\n",
       "      <th>2</th>\n",
       "      <td>4.004484</td>\n",
       "      <td>2.218232</td>\n",
       "      <td>0.047278</td>\n",
       "      <td>1.421812</td>\n",
       "      <td>0.224410</td>\n",
       "      <td>0.405623</td>\n",
       "      <td>-0.465315</td>\n",
       "      <td>1.361397</td>\n",
       "      <td>-0.219265</td>\n",
       "      <td>-0.679063</td>\n",
       "      <td>1.517692</td>\n",
       "      <td>1.804941</td>\n",
       "    </tr>\n",
       "    <tr>\n",
       "      <th>3</th>\n",
       "      <td>3.985755</td>\n",
       "      <td>1.083624</td>\n",
       "      <td>1.403419</td>\n",
       "      <td>1.421812</td>\n",
       "      <td>0.224410</td>\n",
       "      <td>0.405623</td>\n",
       "      <td>-0.465315</td>\n",
       "      <td>1.361397</td>\n",
       "      <td>-0.219265</td>\n",
       "      <td>1.472618</td>\n",
       "      <td>2.679409</td>\n",
       "      <td>1.804941</td>\n",
       "    </tr>\n",
       "    <tr>\n",
       "      <th>4</th>\n",
       "      <td>3.554979</td>\n",
       "      <td>1.046726</td>\n",
       "      <td>1.403419</td>\n",
       "      <td>-0.570187</td>\n",
       "      <td>0.224410</td>\n",
       "      <td>0.405623</td>\n",
       "      <td>2.149083</td>\n",
       "      <td>1.361397</td>\n",
       "      <td>-0.219265</td>\n",
       "      <td>1.472618</td>\n",
       "      <td>1.517692</td>\n",
       "      <td>-0.554035</td>\n",
       "    </tr>\n",
       "    <tr>\n",
       "      <th>...</th>\n",
       "      <td>...</td>\n",
       "      <td>...</td>\n",
       "      <td>...</td>\n",
       "      <td>...</td>\n",
       "      <td>...</td>\n",
       "      <td>...</td>\n",
       "      <td>...</td>\n",
       "      <td>...</td>\n",
       "      <td>...</td>\n",
       "      <td>...</td>\n",
       "      <td>...</td>\n",
       "      <td>...</td>\n",
       "    </tr>\n",
       "    <tr>\n",
       "      <th>540</th>\n",
       "      <td>-1.576868</td>\n",
       "      <td>-0.991879</td>\n",
       "      <td>-1.308863</td>\n",
       "      <td>-0.570187</td>\n",
       "      <td>-0.929397</td>\n",
       "      <td>0.405623</td>\n",
       "      <td>-0.465315</td>\n",
       "      <td>1.361397</td>\n",
       "      <td>-0.219265</td>\n",
       "      <td>-0.679063</td>\n",
       "      <td>1.517692</td>\n",
       "      <td>-0.554035</td>\n",
       "    </tr>\n",
       "    <tr>\n",
       "      <th>541</th>\n",
       "      <td>-1.605149</td>\n",
       "      <td>-1.268613</td>\n",
       "      <td>0.047278</td>\n",
       "      <td>-0.570187</td>\n",
       "      <td>-0.929397</td>\n",
       "      <td>-2.465344</td>\n",
       "      <td>-0.465315</td>\n",
       "      <td>-0.734539</td>\n",
       "      <td>-0.219265</td>\n",
       "      <td>-0.679063</td>\n",
       "      <td>-0.805741</td>\n",
       "      <td>-0.554035</td>\n",
       "    </tr>\n",
       "    <tr>\n",
       "      <th>542</th>\n",
       "      <td>-1.614327</td>\n",
       "      <td>-0.705921</td>\n",
       "      <td>-1.308863</td>\n",
       "      <td>-0.570187</td>\n",
       "      <td>-0.929397</td>\n",
       "      <td>0.405623</td>\n",
       "      <td>-0.465315</td>\n",
       "      <td>-0.734539</td>\n",
       "      <td>-0.219265</td>\n",
       "      <td>-0.679063</td>\n",
       "      <td>-0.805741</td>\n",
       "      <td>-0.554035</td>\n",
       "    </tr>\n",
       "    <tr>\n",
       "      <th>543</th>\n",
       "      <td>-1.614327</td>\n",
       "      <td>-1.033389</td>\n",
       "      <td>0.047278</td>\n",
       "      <td>-0.570187</td>\n",
       "      <td>-0.929397</td>\n",
       "      <td>-2.465344</td>\n",
       "      <td>-0.465315</td>\n",
       "      <td>-0.734539</td>\n",
       "      <td>-0.219265</td>\n",
       "      <td>-0.679063</td>\n",
       "      <td>-0.805741</td>\n",
       "      <td>-0.554035</td>\n",
       "    </tr>\n",
       "    <tr>\n",
       "      <th>544</th>\n",
       "      <td>-1.614327</td>\n",
       "      <td>-0.599839</td>\n",
       "      <td>0.047278</td>\n",
       "      <td>-0.570187</td>\n",
       "      <td>0.224410</td>\n",
       "      <td>0.405623</td>\n",
       "      <td>-0.465315</td>\n",
       "      <td>-0.734539</td>\n",
       "      <td>-0.219265</td>\n",
       "      <td>-0.679063</td>\n",
       "      <td>-0.805741</td>\n",
       "      <td>-0.554035</td>\n",
       "    </tr>\n",
       "  </tbody>\n",
       "</table>\n",
       "<p>545 rows × 12 columns</p>\n",
       "</div>"
      ],
      "text/plain": [
       "        price      area  bedrooms  bathrooms   stories  mainroad  guestroom  \\\n",
       "0    4.566365  1.046726  1.403419   1.421812  1.378217  0.405623  -0.465315   \n",
       "1    4.004484  1.757010  1.403419   5.405809  2.532024  0.405623  -0.465315   \n",
       "2    4.004484  2.218232  0.047278   1.421812  0.224410  0.405623  -0.465315   \n",
       "3    3.985755  1.083624  1.403419   1.421812  0.224410  0.405623  -0.465315   \n",
       "4    3.554979  1.046726  1.403419  -0.570187  0.224410  0.405623   2.149083   \n",
       "..        ...       ...       ...        ...       ...       ...        ...   \n",
       "540 -1.576868 -0.991879 -1.308863  -0.570187 -0.929397  0.405623  -0.465315   \n",
       "541 -1.605149 -1.268613  0.047278  -0.570187 -0.929397 -2.465344  -0.465315   \n",
       "542 -1.614327 -0.705921 -1.308863  -0.570187 -0.929397  0.405623  -0.465315   \n",
       "543 -1.614327 -1.033389  0.047278  -0.570187 -0.929397 -2.465344  -0.465315   \n",
       "544 -1.614327 -0.599839  0.047278  -0.570187  0.224410  0.405623  -0.465315   \n",
       "\n",
       "     basement  hotwaterheating  airconditioning   parking  prefarea  \n",
       "0   -0.734539        -0.219265         1.472618  1.517692  1.804941  \n",
       "1   -0.734539        -0.219265         1.472618  2.679409 -0.554035  \n",
       "2    1.361397        -0.219265        -0.679063  1.517692  1.804941  \n",
       "3    1.361397        -0.219265         1.472618  2.679409  1.804941  \n",
       "4    1.361397        -0.219265         1.472618  1.517692 -0.554035  \n",
       "..        ...              ...              ...       ...       ...  \n",
       "540  1.361397        -0.219265        -0.679063  1.517692 -0.554035  \n",
       "541 -0.734539        -0.219265        -0.679063 -0.805741 -0.554035  \n",
       "542 -0.734539        -0.219265        -0.679063 -0.805741 -0.554035  \n",
       "543 -0.734539        -0.219265        -0.679063 -0.805741 -0.554035  \n",
       "544 -0.734539        -0.219265        -0.679063 -0.805741 -0.554035  \n",
       "\n",
       "[545 rows x 12 columns]"
      ]
     },
     "execution_count": 145,
     "metadata": {},
     "output_type": "execute_result"
    }
   ],
   "source": [
    "data = pd.DataFrame(dft,columns=col)\n",
    "data"
   ]
  },
  {
   "cell_type": "code",
   "execution_count": 146,
   "id": "ec72f3cb",
   "metadata": {},
   "outputs": [],
   "source": [
    "Wye = pd.DataFrame(np.array(data.price))\n"
   ]
  },
  {
   "cell_type": "code",
   "execution_count": 147,
   "id": "9bf6ae76",
   "metadata": {},
   "outputs": [],
   "source": [
    "Ex = data.drop(columns=['price'])\n"
   ]
  },
  {
   "cell_type": "code",
   "execution_count": 148,
   "id": "5ed231e7",
   "metadata": {},
   "outputs": [],
   "source": [
    "train=data.sample(frac=0.8,random_state=1) \n",
    "test=data.drop(train.index)"
   ]
  },
  {
   "cell_type": "code",
   "execution_count": 149,
   "id": "47dd58d6",
   "metadata": {},
   "outputs": [],
   "source": [
    "y_train = pd.DataFrame(np.array(train.price))\n",
    "x_train = train.drop(columns=['price'])\n",
    "\n",
    "y_test = pd.DataFrame(np.array(test.price))\n",
    "x_test = np.array(test.drop(columns=['price']))"
   ]
  },
  {
   "cell_type": "code",
   "execution_count": 150,
   "id": "c6bcceb6",
   "metadata": {},
   "outputs": [],
   "source": [
    "from sklearn.svm import SVR\n",
    "svr_rbf = SVR(kernel='rbf', C=1e3, gamma=0.1)\n",
    "svr_lin = SVR(kernel='linear', C=1e3)\n",
    "svr_poly = SVR(kernel='poly', C=1e3, degree=2)"
   ]
  },
  {
   "cell_type": "code",
   "execution_count": 151,
   "id": "dd0620b9",
   "metadata": {},
   "outputs": [
    {
     "name": "stderr",
     "output_type": "stream",
     "text": [
      "C:\\Users\\dhruv\\anaconda3\\lib\\site-packages\\sklearn\\utils\\validation.py:993: DataConversionWarning: A column-vector y was passed when a 1d array was expected. Please change the shape of y to (n_samples, ), for example using ravel().\n",
      "  y = column_or_1d(y, warn=True)\n",
      "C:\\Users\\dhruv\\anaconda3\\lib\\site-packages\\sklearn\\base.py:450: UserWarning: X does not have valid feature names, but SVR was fitted with feature names\n",
      "  warnings.warn(\n",
      "C:\\Users\\dhruv\\anaconda3\\lib\\site-packages\\sklearn\\utils\\validation.py:993: DataConversionWarning: A column-vector y was passed when a 1d array was expected. Please change the shape of y to (n_samples, ), for example using ravel().\n",
      "  y = column_or_1d(y, warn=True)\n",
      "C:\\Users\\dhruv\\anaconda3\\lib\\site-packages\\sklearn\\base.py:450: UserWarning: X does not have valid feature names, but SVR was fitted with feature names\n",
      "  warnings.warn(\n",
      "C:\\Users\\dhruv\\anaconda3\\lib\\site-packages\\sklearn\\utils\\validation.py:993: DataConversionWarning: A column-vector y was passed when a 1d array was expected. Please change the shape of y to (n_samples, ), for example using ravel().\n",
      "  y = column_or_1d(y, warn=True)\n",
      "C:\\Users\\dhruv\\anaconda3\\lib\\site-packages\\sklearn\\base.py:450: UserWarning: X does not have valid feature names, but SVR was fitted with feature names\n",
      "  warnings.warn(\n"
     ]
    }
   ],
   "source": [
    "y_rbf = svr_rbf.fit(x_train, y_train).predict(x_test)\n",
    "y_lin = svr_lin.fit(x_train, y_train).predict(x_test)\n",
    "y_poly = svr_poly.fit(x_train, y_train).predict(x_test)"
   ]
  },
  {
   "cell_type": "code",
   "execution_count": 152,
   "id": "eefea8d2",
   "metadata": {
    "scrolled": false
   },
   "outputs": [
    {
     "data": {
      "text/plain": [
       "Text(0.5, 1.0, 'SVR')"
      ]
     },
     "execution_count": 152,
     "metadata": {},
     "output_type": "execute_result"
    },
    {
     "data": {
      "image/png": "[encoded data removed]",
      "text/plain": [
       "<Figure size 432x288 with 1 Axes>"
      ]
     },
     "metadata": {
      "needs_background": "light"
     },
     "output_type": "display_data"
    }
   ],
   "source": [
    "plt.plot(y_rbf)\n",
    "plt.plot(y_lin)\n",
    "plt.plot(y_poly)\n",
    "\n",
    "plt.xlabel('X')\n",
    "plt.ylabel('Y')\n",
    "plt.title('SVR')\n"
   ]
  },
  {
   "cell_type": "code",
   "execution_count": null,
   "id": "b9388d6d",
   "metadata": {},
   "outputs": [],
   "source": []
  }
 ],
 "metadata": {
  "kernelspec": {
   "display_name": "Python 3 (ipykernel)",
   "language": "python",
   "name": "python3"
  },
  "language_info": {
   "codemirror_mode": {
    "name": "ipython",
    "version": 3
   },
   "file_extension": ".py",
   "mimetype": "text/x-python",
   "name": "python",
   "nbconvert_exporter": "python",
   "pygments_lexer": "ipython3",
   "version": "3.9.12"
  }
 },
 "nbformat": 4,
 "nbformat_minor": 5
}
