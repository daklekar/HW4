{
 "cells": [
  {
   "cell_type": "code",
   "execution_count": 65,
   "id": "281237d3",
   "metadata": {},
   "outputs": [],
   "source": [
    "import numpy as np\n",
    "import pandas as pd\n",
    "import matplotlib.pyplot as plt\n",
    "from sklearn.preprocessing import StandardScaler \n",
    "from sklearn.preprocessing import MinMaxScaler\n",
    "from sklearn.model_selection import KFold\n",
    "from sklearn.model_selection import cross_val_score\n",
    "from sklearn.linear_model import LogisticRegression\n",
    "from sklearn import datasets\n",
    "from sklearn import metrics\n",
    "from sklearn.metrics import confusion_matrix\n",
    "from sklearn.metrics import classification_report\n",
    "\n",
    "from sklearn.datasets import load_breast_cancer\n",
    "\n",
    "from sklearn.naive_bayes import GaussianNB\n",
    "\n",
    "from sklearn.metrics import precision_recall_curve"
   ]
  },
  {
   "cell_type": "code",
   "execution_count": 66,
   "id": "834ab869",
   "metadata": {},
   "outputs": [],
   "source": [
    "breast = load_breast_cancer()"
   ]
  },
  {
   "cell_type": "code",
   "execution_count": 67,
   "id": "451b74fd",
   "metadata": {},
   "outputs": [],
   "source": [
    "X = breast.data"
   ]
  },
  {
   "cell_type": "code",
   "execution_count": 68,
   "id": "1f426277",
   "metadata": {},
   "outputs": [],
   "source": [
    "Y = breast.target"
   ]
  },
  {
   "cell_type": "code",
   "execution_count": 69,
   "id": "e7d123c9",
   "metadata": {},
   "outputs": [],
   "source": [
    "X =  np.reshape(X,(569,30))"
   ]
  },
  {
   "cell_type": "code",
   "execution_count": 70,
   "id": "1a293716",
   "metadata": {},
   "outputs": [],
   "source": [
    "Y = np.reshape(Y,(569,1))"
   ]
  },
  {
   "cell_type": "code",
   "execution_count": 71,
   "id": "9c8f5a1a",
   "metadata": {},
   "outputs": [],
   "source": [
    "df = pd.DataFrame(Y)"
   ]
  },
  {
   "cell_type": "code",
   "execution_count": 72,
   "id": "200d101b",
   "metadata": {},
   "outputs": [],
   "source": [
    "#Doing the SVM for 2 imp components"
   ]
  },
  {
   "cell_type": "code",
   "execution_count": 73,
   "id": "2326a9aa",
   "metadata": {},
   "outputs": [],
   "source": [
    "from sklearn.decomposition import PCA\n",
    "pca = PCA(n_components=2)\n",
    "principalComponents = pca.fit_transform(X)\n",
    "principalDf = pd.DataFrame(data = principalComponents\n",
    " , columns = ['principal component 1', 'principal component 2'])"
   ]
  },
  {
   "cell_type": "code",
   "execution_count": null,
   "id": "21346bf0",
   "metadata": {},
   "outputs": [],
   "source": []
  },
  {
   "cell_type": "code",
   "execution_count": 74,
   "id": "9b66c7e5",
   "metadata": {},
   "outputs": [
    {
     "data": {
      "text/html": [
       "<div>\n",
       "<style scoped>\n",
       "    .dataframe tbody tr th:only-of-type {\n",
       "        vertical-align: middle;\n",
       "    }\n",
       "\n",
       "    .dataframe tbody tr th {\n",
       "        vertical-align: top;\n",
       "    }\n",
       "\n",
       "    .dataframe thead th {\n",
       "        text-align: right;\n",
       "    }\n",
       "</style>\n",
       "<table border=\"1\" class=\"dataframe\">\n",
       "  <thead>\n",
       "    <tr style=\"text-align: right;\">\n",
       "      <th></th>\n",
       "      <th>principal component 1</th>\n",
       "      <th>principal component 2</th>\n",
       "      <th>0</th>\n",
       "    </tr>\n",
       "  </thead>\n",
       "  <tbody>\n",
       "    <tr>\n",
       "      <th>0</th>\n",
       "      <td>1160.142574</td>\n",
       "      <td>-293.917544</td>\n",
       "      <td>0</td>\n",
       "    </tr>\n",
       "    <tr>\n",
       "      <th>1</th>\n",
       "      <td>1269.122443</td>\n",
       "      <td>15.630182</td>\n",
       "      <td>0</td>\n",
       "    </tr>\n",
       "    <tr>\n",
       "      <th>2</th>\n",
       "      <td>995.793889</td>\n",
       "      <td>39.156743</td>\n",
       "      <td>0</td>\n",
       "    </tr>\n",
       "    <tr>\n",
       "      <th>3</th>\n",
       "      <td>-407.180803</td>\n",
       "      <td>-67.380320</td>\n",
       "      <td>0</td>\n",
       "    </tr>\n",
       "    <tr>\n",
       "      <th>4</th>\n",
       "      <td>930.341180</td>\n",
       "      <td>189.340742</td>\n",
       "      <td>0</td>\n",
       "    </tr>\n",
       "    <tr>\n",
       "      <th>...</th>\n",
       "      <td>...</td>\n",
       "      <td>...</td>\n",
       "      <td>...</td>\n",
       "    </tr>\n",
       "    <tr>\n",
       "      <th>564</th>\n",
       "      <td>1414.126684</td>\n",
       "      <td>110.222492</td>\n",
       "      <td>0</td>\n",
       "    </tr>\n",
       "    <tr>\n",
       "      <th>565</th>\n",
       "      <td>1045.018854</td>\n",
       "      <td>77.057589</td>\n",
       "      <td>0</td>\n",
       "    </tr>\n",
       "    <tr>\n",
       "      <th>566</th>\n",
       "      <td>314.501756</td>\n",
       "      <td>47.553525</td>\n",
       "      <td>0</td>\n",
       "    </tr>\n",
       "    <tr>\n",
       "      <th>567</th>\n",
       "      <td>1124.858115</td>\n",
       "      <td>34.129225</td>\n",
       "      <td>0</td>\n",
       "    </tr>\n",
       "    <tr>\n",
       "      <th>568</th>\n",
       "      <td>-771.527622</td>\n",
       "      <td>-88.643106</td>\n",
       "      <td>1</td>\n",
       "    </tr>\n",
       "  </tbody>\n",
       "</table>\n",
       "<p>569 rows × 3 columns</p>\n",
       "</div>"
      ],
      "text/plain": [
       "     principal component 1  principal component 2  0\n",
       "0              1160.142574            -293.917544  0\n",
       "1              1269.122443              15.630182  0\n",
       "2               995.793889              39.156743  0\n",
       "3              -407.180803             -67.380320  0\n",
       "4               930.341180             189.340742  0\n",
       "..                     ...                    ... ..\n",
       "564            1414.126684             110.222492  0\n",
       "565            1045.018854              77.057589  0\n",
       "566             314.501756              47.553525  0\n",
       "567            1124.858115              34.129225  0\n",
       "568            -771.527622             -88.643106  1\n",
       "\n",
       "[569 rows x 3 columns]"
      ]
     },
     "execution_count": 74,
     "metadata": {},
     "output_type": "execute_result"
    }
   ],
   "source": [
    "finalDf1 = pd.concat([principalDf, df], axis = 1)\n",
    "finalDf1"
   ]
  },
  {
   "cell_type": "code",
   "execution_count": 75,
   "id": "29f0baf7",
   "metadata": {},
   "outputs": [],
   "source": [
    "train=finalDf1.sample(frac=0.8,random_state=0) \n",
    "test=finalDf1.drop(train.index)"
   ]
  },
  {
   "cell_type": "code",
   "execution_count": 76,
   "id": "a29fe62b",
   "metadata": {},
   "outputs": [
    {
     "data": {
      "text/plain": [
       "array([0., 0., 0., 0., 0., 0., 0., 0., 1., 1., 0., 0., 0., 1., 0., 0., 0.,\n",
       "       1., 0., 0., 0., 0., 1., 0., 1., 0., 1., 1., 1., 0., 1., 1., 1., 1.,\n",
       "       1., 1., 1., 0., 1., 0., 1., 1., 1., 0., 0., 0., 0., 1., 1., 1., 0.,\n",
       "       0., 0., 0., 1., 1., 0., 1., 1., 1., 1., 1., 1., 1., 0., 1., 0., 1.,\n",
       "       1., 1., 0., 0., 0., 0., 1., 1., 1., 1., 1., 1., 1., 1., 1., 1., 1.,\n",
       "       1., 1., 0., 1., 1., 1., 0., 1., 0., 1., 1., 1., 1., 0., 1., 1., 0.,\n",
       "       1., 1., 1., 0., 1., 1., 1., 1., 1., 1., 1., 1.])"
      ]
     },
     "execution_count": 76,
     "metadata": {},
     "output_type": "execute_result"
    }
   ],
   "source": [
    "X_train = train.values[:,0:1]\n",
    "X_test = test.values[:,0:1]\n",
    "\n",
    "#Y_train = np.array(train.labels)\n",
    "#Y_test = np.array(test.labels)\n",
    "Y_train = train.values[:,2]\n",
    "Y_test = test.values[:,2]\n",
    "Y_test"
   ]
  },
  {
   "cell_type": "code",
   "execution_count": 77,
   "id": "49d9cb44",
   "metadata": {},
   "outputs": [
    {
     "data": {
      "text/plain": [
       "GridSearchCV(cv=5, estimator=SVC(),\n",
       "             param_grid={'C': [0.1, 1, 10, 100, 1000],\n",
       "                         'gamma': [1, 0.1, 0.01, 0.001, 0.0001],\n",
       "                         'kernel': ['rbf']})"
      ]
     },
     "execution_count": 77,
     "metadata": {},
     "output_type": "execute_result"
    }
   ],
   "source": [
    "from sklearn.model_selection import GridSearchCV\n",
    "from sklearn.svm import SVC\n",
    "param_grid = {'C': [0.1, 1, 10, 100, 1000],\n",
    "              'gamma': [1, 0.1, 0.01, 0.001, 0.0001],\n",
    "              'kernel': ['rbf']}\n",
    "grid = GridSearchCV(SVC(), param_grid, refit=True, cv=5)\n",
    "grid.fit(X_train, Y_train)"
   ]
  },
  {
   "cell_type": "code",
   "execution_count": 78,
   "id": "a69713a1",
   "metadata": {},
   "outputs": [
    {
     "name": "stdout",
     "output_type": "stream",
     "text": [
      "              precision    recall  f1-score   support\n",
      "\n",
      "         0.0       0.88      0.82      0.85        44\n",
      "         1.0       0.89      0.93      0.91        70\n",
      "\n",
      "    accuracy                           0.89       114\n",
      "   macro avg       0.88      0.87      0.88       114\n",
      "weighted avg       0.89      0.89      0.89       114\n",
      "\n",
      "[[36  8]\n",
      " [ 5 65]]\n"
     ]
    }
   ],
   "source": [
    "\n",
    "grid.fit(X_train,Y_train)\n",
    "\n",
    "Y_predicted = grid.predict(X_test)\n",
    "Y_predicted\n",
    "\n",
    "print(metrics.classification_report(Y_test, Y_predicted))\n",
    "\n",
    "print(metrics.confusion_matrix(Y_test,Y_predicted))"
   ]
  },
  {
   "cell_type": "code",
   "execution_count": 79,
   "id": "21d0852c",
   "metadata": {
    "scrolled": true
   },
   "outputs": [
    {
     "data": {
      "image/png": "[encoded data removed]",
      "text/plain": [
       "<Figure size 432x288 with 1 Axes>"
      ]
     },
     "metadata": {
      "needs_background": "light"
     },
     "output_type": "display_data"
    }
   ],
   "source": [
    "#calculate precision and recall\n",
    "precision, recall, thresholds = precision_recall_curve(Y_test,Y_predicted)\n",
    "#create precision recall curve\n",
    "fig, ax = plt.subplots()\n",
    "ax.plot(recall, precision, color='purple')\n",
    "\n",
    "#add axis labels to plot\n",
    "ax.set_title('Precision-Recall Curve')\n",
    "ax.set_ylabel('Precision')\n",
    "ax.set_xlabel('Recall')\n",
    "\n",
    "#display plot\n",
    "plt.show()"
   ]
  },
  {
   "cell_type": "code",
   "execution_count": 80,
   "id": "f57fd20d",
   "metadata": {},
   "outputs": [
    {
     "data": {
      "text/html": [
       "<div>\n",
       "<style scoped>\n",
       "    .dataframe tbody tr th:only-of-type {\n",
       "        vertical-align: middle;\n",
       "    }\n",
       "\n",
       "    .dataframe tbody tr th {\n",
       "        vertical-align: top;\n",
       "    }\n",
       "\n",
       "    .dataframe thead th {\n",
       "        text-align: right;\n",
       "    }\n",
       "</style>\n",
       "<table border=\"1\" class=\"dataframe\">\n",
       "  <thead>\n",
       "    <tr style=\"text-align: right;\">\n",
       "      <th></th>\n",
       "      <th>principal component 1</th>\n",
       "      <th>principal component 2</th>\n",
       "      <th>principal component 3</th>\n",
       "      <th>principal component 4</th>\n",
       "      <th>principal component 5</th>\n",
       "      <th>principal component 6</th>\n",
       "      <th>0</th>\n",
       "    </tr>\n",
       "  </thead>\n",
       "  <tbody>\n",
       "    <tr>\n",
       "      <th>0</th>\n",
       "      <td>1160.142574</td>\n",
       "      <td>-293.917544</td>\n",
       "      <td>48.578398</td>\n",
       "      <td>-8.711975</td>\n",
       "      <td>32.000486</td>\n",
       "      <td>1.265415</td>\n",
       "      <td>0</td>\n",
       "    </tr>\n",
       "    <tr>\n",
       "      <th>1</th>\n",
       "      <td>1269.122443</td>\n",
       "      <td>15.630182</td>\n",
       "      <td>-35.394534</td>\n",
       "      <td>17.861283</td>\n",
       "      <td>-4.334874</td>\n",
       "      <td>-0.225872</td>\n",
       "      <td>0</td>\n",
       "    </tr>\n",
       "    <tr>\n",
       "      <th>2</th>\n",
       "      <td>995.793889</td>\n",
       "      <td>39.156743</td>\n",
       "      <td>-1.709753</td>\n",
       "      <td>4.199340</td>\n",
       "      <td>-0.466529</td>\n",
       "      <td>-2.652811</td>\n",
       "      <td>0</td>\n",
       "    </tr>\n",
       "    <tr>\n",
       "      <th>3</th>\n",
       "      <td>-407.180803</td>\n",
       "      <td>-67.380320</td>\n",
       "      <td>8.672848</td>\n",
       "      <td>-11.759867</td>\n",
       "      <td>7.115461</td>\n",
       "      <td>1.299436</td>\n",
       "      <td>0</td>\n",
       "    </tr>\n",
       "    <tr>\n",
       "      <th>4</th>\n",
       "      <td>930.341180</td>\n",
       "      <td>189.340742</td>\n",
       "      <td>1.374801</td>\n",
       "      <td>8.499183</td>\n",
       "      <td>7.613289</td>\n",
       "      <td>1.021160</td>\n",
       "      <td>0</td>\n",
       "    </tr>\n",
       "    <tr>\n",
       "      <th>...</th>\n",
       "      <td>...</td>\n",
       "      <td>...</td>\n",
       "      <td>...</td>\n",
       "      <td>...</td>\n",
       "      <td>...</td>\n",
       "      <td>...</td>\n",
       "      <td>...</td>\n",
       "    </tr>\n",
       "    <tr>\n",
       "      <th>564</th>\n",
       "      <td>1414.126684</td>\n",
       "      <td>110.222492</td>\n",
       "      <td>40.065944</td>\n",
       "      <td>6.562240</td>\n",
       "      <td>-5.102856</td>\n",
       "      <td>-0.395424</td>\n",
       "      <td>0</td>\n",
       "    </tr>\n",
       "    <tr>\n",
       "      <th>565</th>\n",
       "      <td>1045.018854</td>\n",
       "      <td>77.057589</td>\n",
       "      <td>0.036669</td>\n",
       "      <td>-4.753245</td>\n",
       "      <td>-12.417863</td>\n",
       "      <td>-0.059637</td>\n",
       "      <td>0</td>\n",
       "    </tr>\n",
       "    <tr>\n",
       "      <th>566</th>\n",
       "      <td>314.501756</td>\n",
       "      <td>47.553525</td>\n",
       "      <td>-10.442407</td>\n",
       "      <td>-9.771881</td>\n",
       "      <td>-6.156213</td>\n",
       "      <td>-0.870726</td>\n",
       "      <td>0</td>\n",
       "    </tr>\n",
       "    <tr>\n",
       "      <th>567</th>\n",
       "      <td>1124.858115</td>\n",
       "      <td>34.129225</td>\n",
       "      <td>-19.742087</td>\n",
       "      <td>-23.660881</td>\n",
       "      <td>3.565133</td>\n",
       "      <td>4.086390</td>\n",
       "      <td>0</td>\n",
       "    </tr>\n",
       "    <tr>\n",
       "      <th>568</th>\n",
       "      <td>-771.527622</td>\n",
       "      <td>-88.643106</td>\n",
       "      <td>23.889032</td>\n",
       "      <td>2.547249</td>\n",
       "      <td>-14.717566</td>\n",
       "      <td>4.418123</td>\n",
       "      <td>1</td>\n",
       "    </tr>\n",
       "  </tbody>\n",
       "</table>\n",
       "<p>569 rows × 7 columns</p>\n",
       "</div>"
      ],
      "text/plain": [
       "     principal component 1  principal component 2  principal component 3  \\\n",
       "0              1160.142574            -293.917544              48.578398   \n",
       "1              1269.122443              15.630182             -35.394534   \n",
       "2               995.793889              39.156743              -1.709753   \n",
       "3              -407.180803             -67.380320               8.672848   \n",
       "4               930.341180             189.340742               1.374801   \n",
       "..                     ...                    ...                    ...   \n",
       "564            1414.126684             110.222492              40.065944   \n",
       "565            1045.018854              77.057589               0.036669   \n",
       "566             314.501756              47.553525             -10.442407   \n",
       "567            1124.858115              34.129225             -19.742087   \n",
       "568            -771.527622             -88.643106              23.889032   \n",
       "\n",
       "     principal component 4  principal component 5  principal component 6  0  \n",
       "0                -8.711975              32.000486               1.265415  0  \n",
       "1                17.861283              -4.334874              -0.225872  0  \n",
       "2                 4.199340              -0.466529              -2.652811  0  \n",
       "3               -11.759867               7.115461               1.299436  0  \n",
       "4                 8.499183               7.613289               1.021160  0  \n",
       "..                     ...                    ...                    ... ..  \n",
       "564               6.562240              -5.102856              -0.395424  0  \n",
       "565              -4.753245             -12.417863              -0.059637  0  \n",
       "566              -9.771881              -6.156213              -0.870726  0  \n",
       "567             -23.660881               3.565133               4.086390  0  \n",
       "568               2.547249             -14.717566               4.418123  1  \n",
       "\n",
       "[569 rows x 7 columns]"
      ]
     },
     "execution_count": 80,
     "metadata": {},
     "output_type": "execute_result"
    }
   ],
   "source": [
    "#Doing the SVM for 6 imp components\n",
    "\n",
    "from sklearn.decomposition import PCA\n",
    "pca = PCA(n_components=6)\n",
    "principalComponents = pca.fit_transform(X)\n",
    "principalDf = pd.DataFrame(data = principalComponents\n",
    " , columns = ['principal component 1', 'principal component 2','principal component 3',\n",
    "              'principal component 4','principal component 5', 'principal component 6'])\n",
    "\n",
    "finalDf2 = pd.concat([principalDf, df], axis = 1)\n",
    "finalDf2"
   ]
  },
  {
   "cell_type": "code",
   "execution_count": 81,
   "id": "4947cb8d",
   "metadata": {},
   "outputs": [],
   "source": [
    "train2=finalDf2.sample(frac=0.8,random_state=0) \n",
    "test2=finalDf2.drop(train.index)"
   ]
  },
  {
   "cell_type": "code",
   "execution_count": 82,
   "id": "f2b1d52c",
   "metadata": {},
   "outputs": [
    {
     "data": {
      "text/plain": [
       "array([0., 0., 0., 0., 0., 0., 0., 0., 1., 1., 0., 0., 0., 1., 0., 0., 0.,\n",
       "       1., 0., 0., 0., 0., 1., 0., 1., 0., 1., 1., 1., 0., 1., 1., 1., 1.,\n",
       "       1., 1., 1., 0., 1., 0., 1., 1., 1., 0., 0., 0., 0., 1., 1., 1., 0.,\n",
       "       0., 0., 0., 1., 1., 0., 1., 1., 1., 1., 1., 1., 1., 0., 1., 0., 1.,\n",
       "       1., 1., 0., 0., 0., 0., 1., 1., 1., 1., 1., 1., 1., 1., 1., 1., 1.,\n",
       "       1., 1., 0., 1., 1., 1., 0., 1., 0., 1., 1., 1., 1., 0., 1., 1., 0.,\n",
       "       1., 1., 1., 0., 1., 1., 1., 1., 1., 1., 1., 1.])"
      ]
     },
     "execution_count": 82,
     "metadata": {},
     "output_type": "execute_result"
    }
   ],
   "source": [
    "X_train2 = train2.values[:,0:5]\n",
    "X_test2 = test2.values[:,0:5]\n",
    "\n",
    "#Y_train = np.array(train.labels)\n",
    "#Y_test = np.array(test.labels)\n",
    "Y_train2 = train2.values[:,6]\n",
    "Y_test2 = test2.values[:,6]\n",
    "Y_test2"
   ]
  },
  {
   "cell_type": "code",
   "execution_count": 83,
   "id": "2b465b73",
   "metadata": {},
   "outputs": [
    {
     "data": {
      "text/plain": [
       "GridSearchCV(cv=5, estimator=SVC(),\n",
       "             param_grid={'C': [0.1, 1, 10, 100, 1000],\n",
       "                         'gamma': [1, 0.1, 0.01, 0.001, 0.0001],\n",
       "                         'kernel': ['rbf']})"
      ]
     },
     "execution_count": 83,
     "metadata": {},
     "output_type": "execute_result"
    }
   ],
   "source": [
    "from sklearn.model_selection import GridSearchCV\n",
    "from sklearn.svm import SVC\n",
    "param_grid = {'C': [0.1, 1, 10, 100, 1000],\n",
    "              'gamma': [1, 0.1, 0.01, 0.001, 0.0001],\n",
    "              'kernel': ['rbf']}\n",
    "grid = GridSearchCV(SVC(), param_grid, refit=True, cv=5)\n",
    "grid.fit(X_train2, Y_train2)"
   ]
  },
  {
   "cell_type": "code",
   "execution_count": 84,
   "id": "c8af2279",
   "metadata": {},
   "outputs": [
    {
     "data": {
      "text/plain": [
       "GridSearchCV(cv=5, estimator=SVC(),\n",
       "             param_grid={'C': [0.1, 1, 10, 100, 1000],\n",
       "                         'gamma': [1, 0.1, 0.01, 0.001, 0.0001],\n",
       "                         'kernel': ['rbf']})"
      ]
     },
     "execution_count": 84,
     "metadata": {},
     "output_type": "execute_result"
    }
   ],
   "source": [
    "grid.fit(X_train2,Y_train2)"
   ]
  },
  {
   "cell_type": "code",
   "execution_count": 85,
   "id": "35950ae4",
   "metadata": {},
   "outputs": [
    {
     "data": {
      "text/plain": [
       "array([0., 0., 0., 0., 1., 0., 0., 0., 1., 1., 0., 0., 0., 1., 0., 0., 0.,\n",
       "       1., 0., 1., 0., 0., 1., 1., 1., 0., 1., 1., 1., 0., 1., 1., 1., 1.,\n",
       "       1., 1., 1., 1., 1., 0., 1., 1., 1., 1., 0., 0., 0., 1., 1., 1., 0.,\n",
       "       0., 0., 0., 1., 1., 1., 1., 1., 1., 1., 1., 1., 1., 0., 1., 0., 1.,\n",
       "       1., 1., 0., 0., 0., 0., 1., 1., 1., 1., 1., 1., 1., 1., 1., 1., 1.,\n",
       "       1., 1., 1., 1., 1., 1., 0., 1., 0., 1., 1., 1., 1., 0., 1., 1., 0.,\n",
       "       1., 1., 1., 1., 1., 1., 1., 1., 1., 1., 1., 1.])"
      ]
     },
     "execution_count": 85,
     "metadata": {},
     "output_type": "execute_result"
    }
   ],
   "source": [
    "Y_predicted = grid.predict(X_test2)\n",
    "Y_predicted"
   ]
  },
  {
   "cell_type": "code",
   "execution_count": 86,
   "id": "2aa7eaf3",
   "metadata": {},
   "outputs": [
    {
     "name": "stdout",
     "output_type": "stream",
     "text": [
      "              precision    recall  f1-score   support\n",
      "\n",
      "         0.0       1.00      0.82      0.90        44\n",
      "         1.0       0.90      1.00      0.95        70\n",
      "\n",
      "    accuracy                           0.93       114\n",
      "   macro avg       0.95      0.91      0.92       114\n",
      "weighted avg       0.94      0.93      0.93       114\n",
      "\n",
      "[[36  8]\n",
      " [ 0 70]]\n"
     ]
    },
    {
     "data": {
      "image/png": "[encoded data removed]",
      "text/plain": [
       "<Figure size 432x288 with 1 Axes>"
      ]
     },
     "metadata": {
      "needs_background": "light"
     },
     "output_type": "display_data"
    }
   ],
   "source": [
    "print(metrics.classification_report(Y_test, Y_predicted))\n",
    "\n",
    "print(metrics.confusion_matrix(Y_test,Y_predicted))\n",
    "\n",
    "\n",
    "#calculate precision and recall\n",
    "precision, recall, thresholds = precision_recall_curve(Y_test,Y_predicted)\n",
    "#create precision recall curve\n",
    "fig, ax = plt.subplots()\n",
    "ax.plot(recall, precision, color='purple')\n",
    "\n",
    "#add axis labels to plot\n",
    "ax.set_title('Precision-Recall Curve')\n",
    "ax.set_ylabel('Precision')\n",
    "ax.set_xlabel('Recall')\n",
    "\n",
    "#display plot\n",
    "plt.show()"
   ]
  },
  {
   "cell_type": "code",
   "execution_count": 87,
   "id": "fd78919b",
   "metadata": {},
   "outputs": [
    {
     "data": {
      "text/html": [
       "<div>\n",
       "<style scoped>\n",
       "    .dataframe tbody tr th:only-of-type {\n",
       "        vertical-align: middle;\n",
       "    }\n",
       "\n",
       "    .dataframe tbody tr th {\n",
       "        vertical-align: top;\n",
       "    }\n",
       "\n",
       "    .dataframe thead th {\n",
       "        text-align: right;\n",
       "    }\n",
       "</style>\n",
       "<table border=\"1\" class=\"dataframe\">\n",
       "  <thead>\n",
       "    <tr style=\"text-align: right;\">\n",
       "      <th></th>\n",
       "      <th>principal component 1</th>\n",
       "      <th>principal component 2</th>\n",
       "      <th>principal component 3</th>\n",
       "      <th>principal component 4</th>\n",
       "      <th>principal component 5</th>\n",
       "      <th>principal component 6</th>\n",
       "      <th>principal component 7</th>\n",
       "      <th>principal component 8</th>\n",
       "      <th>principal component 9</th>\n",
       "      <th>principal component 10</th>\n",
       "      <th>principal component 11</th>\n",
       "      <th>principal component 12</th>\n",
       "      <th>principal component 13</th>\n",
       "      <th>principal component 14</th>\n",
       "      <th>principal component 15</th>\n",
       "      <th>principal component 16</th>\n",
       "      <th>principal component 17</th>\n",
       "      <th>principal component 18</th>\n",
       "      <th>0</th>\n",
       "    </tr>\n",
       "  </thead>\n",
       "  <tbody>\n",
       "    <tr>\n",
       "      <th>0</th>\n",
       "      <td>1160.142574</td>\n",
       "      <td>-293.917544</td>\n",
       "      <td>48.578398</td>\n",
       "      <td>-8.711975</td>\n",
       "      <td>32.000486</td>\n",
       "      <td>1.265415</td>\n",
       "      <td>0.931337</td>\n",
       "      <td>0.148167</td>\n",
       "      <td>0.745463</td>\n",
       "      <td>0.589359</td>\n",
       "      <td>-0.307804</td>\n",
       "      <td>0.043452</td>\n",
       "      <td>0.034777</td>\n",
       "      <td>0.065069</td>\n",
       "      <td>-0.012934</td>\n",
       "      <td>-0.002670</td>\n",
       "      <td>0.018300</td>\n",
       "      <td>0.010263</td>\n",
       "      <td>0</td>\n",
       "    </tr>\n",
       "    <tr>\n",
       "      <th>1</th>\n",
       "      <td>1269.122443</td>\n",
       "      <td>15.630182</td>\n",
       "      <td>-35.394534</td>\n",
       "      <td>17.861283</td>\n",
       "      <td>-4.334874</td>\n",
       "      <td>-0.225872</td>\n",
       "      <td>-0.046037</td>\n",
       "      <td>0.200804</td>\n",
       "      <td>-0.485828</td>\n",
       "      <td>-0.084035</td>\n",
       "      <td>0.080642</td>\n",
       "      <td>0.033042</td>\n",
       "      <td>0.045485</td>\n",
       "      <td>-0.005534</td>\n",
       "      <td>0.021368</td>\n",
       "      <td>-0.028715</td>\n",
       "      <td>0.012371</td>\n",
       "      <td>-0.006009</td>\n",
       "      <td>0</td>\n",
       "    </tr>\n",
       "    <tr>\n",
       "      <th>2</th>\n",
       "      <td>995.793889</td>\n",
       "      <td>39.156743</td>\n",
       "      <td>-1.709753</td>\n",
       "      <td>4.199340</td>\n",
       "      <td>-0.466529</td>\n",
       "      <td>-2.652811</td>\n",
       "      <td>-0.779745</td>\n",
       "      <td>-0.274026</td>\n",
       "      <td>-0.173874</td>\n",
       "      <td>-0.186994</td>\n",
       "      <td>0.279174</td>\n",
       "      <td>-0.020464</td>\n",
       "      <td>0.083505</td>\n",
       "      <td>0.024824</td>\n",
       "      <td>-0.026887</td>\n",
       "      <td>-0.041255</td>\n",
       "      <td>0.008218</td>\n",
       "      <td>-0.028044</td>\n",
       "      <td>0</td>\n",
       "    </tr>\n",
       "    <tr>\n",
       "      <th>3</th>\n",
       "      <td>-407.180803</td>\n",
       "      <td>-67.380320</td>\n",
       "      <td>8.672848</td>\n",
       "      <td>-11.759867</td>\n",
       "      <td>7.115461</td>\n",
       "      <td>1.299436</td>\n",
       "      <td>-1.267304</td>\n",
       "      <td>-0.060555</td>\n",
       "      <td>-0.330639</td>\n",
       "      <td>-0.144155</td>\n",
       "      <td>0.927471</td>\n",
       "      <td>-0.174720</td>\n",
       "      <td>0.282556</td>\n",
       "      <td>0.080057</td>\n",
       "      <td>0.043201</td>\n",
       "      <td>-0.034175</td>\n",
       "      <td>0.033742</td>\n",
       "      <td>-0.016965</td>\n",
       "      <td>0</td>\n",
       "    </tr>\n",
       "    <tr>\n",
       "      <th>4</th>\n",
       "      <td>930.341180</td>\n",
       "      <td>189.340742</td>\n",
       "      <td>1.374801</td>\n",
       "      <td>8.499183</td>\n",
       "      <td>7.613289</td>\n",
       "      <td>1.021160</td>\n",
       "      <td>-0.335522</td>\n",
       "      <td>0.289109</td>\n",
       "      <td>0.036087</td>\n",
       "      <td>-0.138502</td>\n",
       "      <td>0.042228</td>\n",
       "      <td>-0.062721</td>\n",
       "      <td>-0.114247</td>\n",
       "      <td>0.002274</td>\n",
       "      <td>-0.019548</td>\n",
       "      <td>0.019932</td>\n",
       "      <td>-0.019201</td>\n",
       "      <td>0.004024</td>\n",
       "      <td>0</td>\n",
       "    </tr>\n",
       "    <tr>\n",
       "      <th>...</th>\n",
       "      <td>...</td>\n",
       "      <td>...</td>\n",
       "      <td>...</td>\n",
       "      <td>...</td>\n",
       "      <td>...</td>\n",
       "      <td>...</td>\n",
       "      <td>...</td>\n",
       "      <td>...</td>\n",
       "      <td>...</td>\n",
       "      <td>...</td>\n",
       "      <td>...</td>\n",
       "      <td>...</td>\n",
       "      <td>...</td>\n",
       "      <td>...</td>\n",
       "      <td>...</td>\n",
       "      <td>...</td>\n",
       "      <td>...</td>\n",
       "      <td>...</td>\n",
       "      <td>...</td>\n",
       "    </tr>\n",
       "    <tr>\n",
       "      <th>564</th>\n",
       "      <td>1414.126684</td>\n",
       "      <td>110.222492</td>\n",
       "      <td>40.065944</td>\n",
       "      <td>6.562240</td>\n",
       "      <td>-5.102856</td>\n",
       "      <td>-0.395424</td>\n",
       "      <td>-0.786751</td>\n",
       "      <td>0.037082</td>\n",
       "      <td>-0.452530</td>\n",
       "      <td>-0.235185</td>\n",
       "      <td>0.163649</td>\n",
       "      <td>0.052543</td>\n",
       "      <td>-0.075032</td>\n",
       "      <td>-0.015211</td>\n",
       "      <td>-0.061390</td>\n",
       "      <td>-0.054694</td>\n",
       "      <td>-0.004829</td>\n",
       "      <td>-0.011515</td>\n",
       "      <td>0</td>\n",
       "    </tr>\n",
       "    <tr>\n",
       "      <th>565</th>\n",
       "      <td>1045.018854</td>\n",
       "      <td>77.057589</td>\n",
       "      <td>0.036669</td>\n",
       "      <td>-4.753245</td>\n",
       "      <td>-12.417863</td>\n",
       "      <td>-0.059637</td>\n",
       "      <td>0.449831</td>\n",
       "      <td>0.509154</td>\n",
       "      <td>-0.449986</td>\n",
       "      <td>0.493247</td>\n",
       "      <td>0.007625</td>\n",
       "      <td>0.055832</td>\n",
       "      <td>-0.015163</td>\n",
       "      <td>0.009985</td>\n",
       "      <td>0.003312</td>\n",
       "      <td>-0.020654</td>\n",
       "      <td>0.005197</td>\n",
       "      <td>0.002106</td>\n",
       "      <td>0</td>\n",
       "    </tr>\n",
       "    <tr>\n",
       "      <th>566</th>\n",
       "      <td>314.501756</td>\n",
       "      <td>47.553525</td>\n",
       "      <td>-10.442407</td>\n",
       "      <td>-9.771881</td>\n",
       "      <td>-6.156213</td>\n",
       "      <td>-0.870726</td>\n",
       "      <td>-2.166493</td>\n",
       "      <td>-0.442279</td>\n",
       "      <td>-0.097398</td>\n",
       "      <td>-0.144667</td>\n",
       "      <td>-0.109147</td>\n",
       "      <td>0.076263</td>\n",
       "      <td>-0.004448</td>\n",
       "      <td>-0.055285</td>\n",
       "      <td>-0.012459</td>\n",
       "      <td>-0.005414</td>\n",
       "      <td>0.007866</td>\n",
       "      <td>-0.004484</td>\n",
       "      <td>0</td>\n",
       "    </tr>\n",
       "    <tr>\n",
       "      <th>567</th>\n",
       "      <td>1124.858115</td>\n",
       "      <td>34.129225</td>\n",
       "      <td>-19.742087</td>\n",
       "      <td>-23.660881</td>\n",
       "      <td>3.565133</td>\n",
       "      <td>4.086390</td>\n",
       "      <td>-1.705401</td>\n",
       "      <td>-0.359964</td>\n",
       "      <td>0.385030</td>\n",
       "      <td>0.615467</td>\n",
       "      <td>0.307166</td>\n",
       "      <td>-0.028224</td>\n",
       "      <td>0.060561</td>\n",
       "      <td>-0.037742</td>\n",
       "      <td>-0.031873</td>\n",
       "      <td>0.020126</td>\n",
       "      <td>0.015243</td>\n",
       "      <td>0.043651</td>\n",
       "      <td>0</td>\n",
       "    </tr>\n",
       "    <tr>\n",
       "      <th>568</th>\n",
       "      <td>-771.527622</td>\n",
       "      <td>-88.643106</td>\n",
       "      <td>23.889032</td>\n",
       "      <td>2.547249</td>\n",
       "      <td>-14.717566</td>\n",
       "      <td>4.418123</td>\n",
       "      <td>-2.815752</td>\n",
       "      <td>0.030039</td>\n",
       "      <td>-0.423451</td>\n",
       "      <td>-0.301439</td>\n",
       "      <td>0.133353</td>\n",
       "      <td>-0.115105</td>\n",
       "      <td>-0.019667</td>\n",
       "      <td>0.013734</td>\n",
       "      <td>-0.004134</td>\n",
       "      <td>0.034264</td>\n",
       "      <td>0.009440</td>\n",
       "      <td>-0.028323</td>\n",
       "      <td>1</td>\n",
       "    </tr>\n",
       "  </tbody>\n",
       "</table>\n",
       "<p>569 rows × 19 columns</p>\n",
       "</div>"
      ],
      "text/plain": [
       "     principal component 1  principal component 2  principal component 3  \\\n",
       "0              1160.142574            -293.917544              48.578398   \n",
       "1              1269.122443              15.630182             -35.394534   \n",
       "2               995.793889              39.156743              -1.709753   \n",
       "3              -407.180803             -67.380320               8.672848   \n",
       "4               930.341180             189.340742               1.374801   \n",
       "..                     ...                    ...                    ...   \n",
       "564            1414.126684             110.222492              40.065944   \n",
       "565            1045.018854              77.057589               0.036669   \n",
       "566             314.501756              47.553525             -10.442407   \n",
       "567            1124.858115              34.129225             -19.742087   \n",
       "568            -771.527622             -88.643106              23.889032   \n",
       "\n",
       "     principal component 4  principal component 5  principal component 6  \\\n",
       "0                -8.711975              32.000486               1.265415   \n",
       "1                17.861283              -4.334874              -0.225872   \n",
       "2                 4.199340              -0.466529              -2.652811   \n",
       "3               -11.759867               7.115461               1.299436   \n",
       "4                 8.499183               7.613289               1.021160   \n",
       "..                     ...                    ...                    ...   \n",
       "564               6.562240              -5.102856              -0.395424   \n",
       "565              -4.753245             -12.417863              -0.059637   \n",
       "566              -9.771881              -6.156213              -0.870726   \n",
       "567             -23.660881               3.565133               4.086390   \n",
       "568               2.547249             -14.717566               4.418123   \n",
       "\n",
       "     principal component 7  principal component 8  principal component 9  \\\n",
       "0                 0.931337               0.148167               0.745463   \n",
       "1                -0.046037               0.200804              -0.485828   \n",
       "2                -0.779745              -0.274026              -0.173874   \n",
       "3                -1.267304              -0.060555              -0.330639   \n",
       "4                -0.335522               0.289109               0.036087   \n",
       "..                     ...                    ...                    ...   \n",
       "564              -0.786751               0.037082              -0.452530   \n",
       "565               0.449831               0.509154              -0.449986   \n",
       "566              -2.166493              -0.442279              -0.097398   \n",
       "567              -1.705401              -0.359964               0.385030   \n",
       "568              -2.815752               0.030039              -0.423451   \n",
       "\n",
       "     principal component 10  principal component 11  principal component 12  \\\n",
       "0                  0.589359               -0.307804                0.043452   \n",
       "1                 -0.084035                0.080642                0.033042   \n",
       "2                 -0.186994                0.279174               -0.020464   \n",
       "3                 -0.144155                0.927471               -0.174720   \n",
       "4                 -0.138502                0.042228               -0.062721   \n",
       "..                      ...                     ...                     ...   \n",
       "564               -0.235185                0.163649                0.052543   \n",
       "565                0.493247                0.007625                0.055832   \n",
       "566               -0.144667               -0.109147                0.076263   \n",
       "567                0.615467                0.307166               -0.028224   \n",
       "568               -0.301439                0.133353               -0.115105   \n",
       "\n",
       "     principal component 13  principal component 14  principal component 15  \\\n",
       "0                  0.034777                0.065069               -0.012934   \n",
       "1                  0.045485               -0.005534                0.021368   \n",
       "2                  0.083505                0.024824               -0.026887   \n",
       "3                  0.282556                0.080057                0.043201   \n",
       "4                 -0.114247                0.002274               -0.019548   \n",
       "..                      ...                     ...                     ...   \n",
       "564               -0.075032               -0.015211               -0.061390   \n",
       "565               -0.015163                0.009985                0.003312   \n",
       "566               -0.004448               -0.055285               -0.012459   \n",
       "567                0.060561               -0.037742               -0.031873   \n",
       "568               -0.019667                0.013734               -0.004134   \n",
       "\n",
       "     principal component 16  principal component 17  principal component 18  0  \n",
       "0                 -0.002670                0.018300                0.010263  0  \n",
       "1                 -0.028715                0.012371               -0.006009  0  \n",
       "2                 -0.041255                0.008218               -0.028044  0  \n",
       "3                 -0.034175                0.033742               -0.016965  0  \n",
       "4                  0.019932               -0.019201                0.004024  0  \n",
       "..                      ...                     ...                     ... ..  \n",
       "564               -0.054694               -0.004829               -0.011515  0  \n",
       "565               -0.020654                0.005197                0.002106  0  \n",
       "566               -0.005414                0.007866               -0.004484  0  \n",
       "567                0.020126                0.015243                0.043651  0  \n",
       "568                0.034264                0.009440               -0.028323  1  \n",
       "\n",
       "[569 rows x 19 columns]"
      ]
     },
     "execution_count": 87,
     "metadata": {},
     "output_type": "execute_result"
    }
   ],
   "source": [
    "#Doing the SVM for 18 imp components\n",
    "\n",
    "from sklearn.decomposition import PCA\n",
    "pca = PCA(n_components=18)\n",
    "principalComponents = pca.fit_transform(X)\n",
    "principalDf = pd.DataFrame(data = principalComponents\n",
    " , columns = ['principal component 1', 'principal component 2','principal component 3',\n",
    "              'principal component 4', 'principal component 5','principal component 6',\n",
    "              'principal component 7','principal component 8', 'principal component 9',\n",
    "              'principal component 10', 'principal component 11','principal component 12',\n",
    "              'principal component 13','principal component 14', 'principal component 15',\n",
    "              'principal component 16','principal component 17', 'principal component 18'])\n",
    "\n",
    "finalDf3 = pd.concat([principalDf, df], axis = 1)\n",
    "finalDf3"
   ]
  },
  {
   "cell_type": "code",
   "execution_count": 88,
   "id": "8f6b7834",
   "metadata": {},
   "outputs": [],
   "source": [
    "train3=finalDf3.sample(frac=0.8,random_state=0) \n",
    "test3=finalDf3.drop(train.index)"
   ]
  },
  {
   "cell_type": "code",
   "execution_count": 89,
   "id": "1ee9b0fc",
   "metadata": {},
   "outputs": [
    {
     "data": {
      "text/plain": [
       "array([0., 0., 0., 0., 0., 0., 0., 0., 1., 1., 0., 0., 0., 1., 0., 0., 0.,\n",
       "       1., 0., 0., 0., 0., 1., 0., 1., 0., 1., 1., 1., 0., 1., 1., 1., 1.,\n",
       "       1., 1., 1., 0., 1., 0., 1., 1., 1., 0., 0., 0., 0., 1., 1., 1., 0.,\n",
       "       0., 0., 0., 1., 1., 0., 1., 1., 1., 1., 1., 1., 1., 0., 1., 0., 1.,\n",
       "       1., 1., 0., 0., 0., 0., 1., 1., 1., 1., 1., 1., 1., 1., 1., 1., 1.,\n",
       "       1., 1., 0., 1., 1., 1., 0., 1., 0., 1., 1., 1., 1., 0., 1., 1., 0.,\n",
       "       1., 1., 1., 0., 1., 1., 1., 1., 1., 1., 1., 1.])"
      ]
     },
     "execution_count": 89,
     "metadata": {},
     "output_type": "execute_result"
    }
   ],
   "source": [
    "X_train3 = train3.values[:,0:17]\n",
    "X_test3 = test3.values[:,0:17]\n",
    "\n",
    "#Y_train = np.array(train.labels)\n",
    "#Y_test = np.array(test.labels)\n",
    "Y_train3 = train3.values[:,18]\n",
    "Y_test3 = test3.values[:,18]\n",
    "Y_test3"
   ]
  },
  {
   "cell_type": "code",
   "execution_count": 90,
   "id": "f3a35693",
   "metadata": {},
   "outputs": [
    {
     "data": {
      "text/plain": [
       "GridSearchCV(cv=5, estimator=SVC(),\n",
       "             param_grid={'C': [0.1, 1, 10, 100, 1000],\n",
       "                         'gamma': [1, 0.1, 0.01, 0.001, 0.0001],\n",
       "                         'kernel': ['rbf']})"
      ]
     },
     "execution_count": 90,
     "metadata": {},
     "output_type": "execute_result"
    }
   ],
   "source": [
    "from sklearn.model_selection import GridSearchCV\n",
    "from sklearn.svm import SVC\n",
    "param_grid = {'C': [0.1, 1, 10, 100, 1000],\n",
    "              'gamma': [1, 0.1, 0.01, 0.001, 0.0001],\n",
    "              'kernel': ['rbf']}\n",
    "grid = GridSearchCV(SVC(), param_grid, refit=True, cv=5)\n",
    "grid.fit(X_train3, Y_train3)"
   ]
  },
  {
   "cell_type": "code",
   "execution_count": 91,
   "id": "c3316204",
   "metadata": {},
   "outputs": [
    {
     "data": {
      "text/plain": [
       "GridSearchCV(cv=5, estimator=SVC(),\n",
       "             param_grid={'C': [0.1, 1, 10, 100, 1000],\n",
       "                         'gamma': [1, 0.1, 0.01, 0.001, 0.0001],\n",
       "                         'kernel': ['rbf']})"
      ]
     },
     "execution_count": 91,
     "metadata": {},
     "output_type": "execute_result"
    }
   ],
   "source": [
    "grid.fit(X_train3,Y_train3)"
   ]
  },
  {
   "cell_type": "code",
   "execution_count": 92,
   "id": "8afcebd6",
   "metadata": {},
   "outputs": [
    {
     "data": {
      "text/plain": [
       "array([0., 0., 0., 0., 1., 0., 0., 0., 1., 1., 0., 0., 0., 1., 0., 0., 0.,\n",
       "       1., 0., 1., 0., 0., 1., 1., 1., 0., 1., 1., 1., 0., 1., 1., 1., 1.,\n",
       "       1., 1., 1., 1., 1., 0., 1., 1., 1., 1., 0., 0., 0., 1., 1., 1., 0.,\n",
       "       0., 0., 0., 1., 1., 1., 1., 1., 1., 1., 1., 1., 1., 0., 1., 0., 1.,\n",
       "       1., 1., 0., 0., 0., 0., 1., 1., 1., 1., 1., 1., 1., 1., 1., 1., 1.,\n",
       "       1., 1., 1., 1., 1., 1., 0., 1., 0., 1., 1., 1., 1., 0., 1., 1., 0.,\n",
       "       1., 1., 1., 1., 1., 1., 1., 1., 1., 1., 1., 1.])"
      ]
     },
     "execution_count": 92,
     "metadata": {},
     "output_type": "execute_result"
    }
   ],
   "source": [
    "Y_predicted = grid.predict(X_test3)\n",
    "Y_predicted"
   ]
  },
  {
   "cell_type": "code",
   "execution_count": 93,
   "id": "6e31a29f",
   "metadata": {
    "scrolled": true
   },
   "outputs": [
    {
     "name": "stdout",
     "output_type": "stream",
     "text": [
      "              precision    recall  f1-score   support\n",
      "\n",
      "         0.0       1.00      0.82      0.90        44\n",
      "         1.0       0.90      1.00      0.95        70\n",
      "\n",
      "    accuracy                           0.93       114\n",
      "   macro avg       0.95      0.91      0.92       114\n",
      "weighted avg       0.94      0.93      0.93       114\n",
      "\n",
      "[[36  8]\n",
      " [ 0 70]]\n"
     ]
    },
    {
     "data": {
      "image/png": "[encoded data removed]",
      "text/plain": [
       "<Figure size 432x288 with 1 Axes>"
      ]
     },
     "metadata": {
      "needs_background": "light"
     },
     "output_type": "display_data"
    }
   ],
   "source": [
    "print(metrics.classification_report(Y_test, Y_predicted))\n",
    "\n",
    "print(metrics.confusion_matrix(Y_test,Y_predicted))\n",
    "\n",
    "\n",
    "#calculate precision and recall\n",
    "precision, recall, thresholds = precision_recall_curve(Y_test,Y_predicted)\n",
    "#create precision recall curve\n",
    "fig, ax = plt.subplots()\n",
    "ax.plot(recall, precision, color='purple')\n",
    "\n",
    "#add axis labels to plot\n",
    "ax.set_title('Precision-Recall Curve')\n",
    "ax.set_ylabel('Precision')\n",
    "ax.set_xlabel('Recall')\n",
    "\n",
    "#display plot\n",
    "plt.show()"
   ]
  },
  {
   "cell_type": "code",
   "execution_count": 94,
   "id": "b7bf0696",
   "metadata": {},
   "outputs": [],
   "source": [
    "# Trying different kernels"
   ]
  },
  {
   "cell_type": "code",
   "execution_count": 96,
   "id": "ff801c70-3549-49ce-a2a5-9f5f4d53e372",
   "metadata": {},
   "outputs": [
    {
     "name": "stdout",
     "output_type": "stream",
     "text": [
      "              precision    recall  f1-score   support\n",
      "\n",
      "         0.0       0.95      0.84      0.89        44\n",
      "         1.0       0.91      0.97      0.94        70\n",
      "\n",
      "    accuracy                           0.92       114\n",
      "   macro avg       0.93      0.91      0.91       114\n",
      "weighted avg       0.92      0.92      0.92       114\n",
      "\n"
     ]
    }
   ],
   "source": [
    "# SVM with linear kernel\n",
    "# SVM with linear kernel and C=100.0\n",
    "linear_svc=SVC(kernel='linear', C=100.0) \n",
    "linear_svc.fit(X_train,Y_train)\n",
    "# make predictions on test set\n",
    "Y_pred_test=linear_svc.predict(X_test)\n",
    "# compute and print accuracy score\n",
    "print(metrics.classification_report(Y_test, Y_pred_test))"
   ]
  },
  {
   "cell_type": "code",
   "execution_count": 99,
   "id": "61697625-14ea-4eb8-88b4-162405f680be",
   "metadata": {},
   "outputs": [
    {
     "name": "stdout",
     "output_type": "stream",
     "text": [
      "              precision    recall  f1-score   support\n",
      "\n",
      "         0.0       1.00      0.66      0.79        44\n",
      "         1.0       0.82      1.00      0.90        70\n",
      "\n",
      "    accuracy                           0.87       114\n",
      "   macro avg       0.91      0.83      0.85       114\n",
      "weighted avg       0.89      0.87      0.86       114\n",
      "\n"
     ]
    }
   ],
   "source": [
    "#SVM with polynomial kernel and C=1000.0\n",
    "poly_svc100=SVC(kernel='poly', C=1000.0) \n",
    "# fit classifier to training set\n",
    "poly_svc100.fit(X_train, Y_train)\n",
    "# make predictions on test set\n",
    "Y_pred=poly_svc100.predict(X_test)\n",
    "# compute and print accuracy score\n",
    "print(metrics.classification_report(Y_test, Y_pred))"
   ]
  },
  {
   "cell_type": "code",
   "execution_count": 100,
   "id": "a80f2848-ed6b-46b8-b0ea-2f06c7bdc28d",
   "metadata": {
    "scrolled": true
   },
   "outputs": [
    {
     "name": "stdout",
     "output_type": "stream",
     "text": [
      "              precision    recall  f1-score   support\n",
      "\n",
      "         0.0       0.75      0.75      0.75        44\n",
      "         1.0       0.84      0.84      0.84        70\n",
      "\n",
      "    accuracy                           0.81       114\n",
      "   macro avg       0.80      0.80      0.80       114\n",
      "weighted avg       0.81      0.81      0.81       114\n",
      "\n"
     ]
    }
   ],
   "source": [
    "# Run SVM with sigmoid kernel\n",
    "# instantiate classifier with sigmoid kernel and C=100.0\n",
    "sigmoid_svc100=SVC(kernel='sigmoid', C=100.0) \n",
    "# fit classifier to training set\n",
    "sigmoid_svc100.fit(X_train,Y_train)\n",
    "# make predictions on test set\n",
    "Y_pred=sigmoid_svc100.predict(X_test)\n",
    "# compute and print accuracy score\n",
    "print(metrics.classification_report(Y_test, Y_pred))"
   ]
  },
  {
   "cell_type": "code",
   "execution_count": 103,
   "id": "34c01291",
   "metadata": {
    "scrolled": true
   },
   "outputs": [
    {
     "name": "stdout",
     "output_type": "stream",
     "text": [
      "0.9298245614035088\n",
      "0.9298245614035088\n",
      "0.9298245614035088\n",
      "0.9298245614035088\n",
      "0.9298245614035088\n",
      "0.9298245614035088\n",
      "0.9298245614035088\n",
      "0.9298245614035088\n",
      "0.9298245614035088\n",
      "0.9298245614035088\n",
      "0.9298245614035088\n",
      "0.9298245614035088\n",
      "0.9298245614035088\n",
      "0.9298245614035088\n",
      "0.9298245614035088\n",
      "0.9298245614035088\n",
      "0.9298245614035088\n",
      "0.9298245614035088\n",
      "0.9298245614035088\n",
      "0.9298245614035088\n",
      "0.9298245614035088\n",
      "0.9298245614035088\n",
      "0.9298245614035088\n",
      "0.9298245614035088\n",
      "0.9298245614035088\n",
      "0.9298245614035088\n",
      "0.9385964912280702\n",
      "0.9122807017543859\n",
      "0.8859649122807017\n"
     ]
    }
   ],
   "source": [
    "#accuracy graph\n",
    "count = 30\n",
    "while(count >= 2):\n",
    "    from sklearn.decomposition import PCA\n",
    "    pca = PCA(n_components=count)\n",
    "    principalComponents = pca.fit_transform(X)\n",
    "    principalDf = pd.DataFrame(data = principalComponents)\n",
    "    finalDfi = pd.concat([principalDf, df], axis = 1)\n",
    "\n",
    "    traini=finalDfi.sample(frac=0.8,random_state=0) \n",
    "    testi=finalDfi.drop(traini.index)\n",
    "    X_traini = traini.values[:,0:count-1]\n",
    "    X_testi = testi.values[:,0:count-1]\n",
    "\n",
    "\n",
    "    Y_traini = traini.values[:,count]\n",
    "    Y_testi = testi.values[:,count]\n",
    "\n",
    "    from sklearn.model_selection import GridSearchCV\n",
    "    from sklearn.svm import SVC\n",
    "    param_grid = {'C': [0.1, 1, 10, 100, 1000],\n",
    "          'gamma': [1, 0.1, 0.01, 0.001, 0.0001],\n",
    "          'kernel': ['rbf']}\n",
    "    grid = GridSearchCV(SVC(), param_grid, refit=True, cv=5)\n",
    "    grid.fit(X_traini, Y_traini)\n",
    "\n",
    "    grid.fit(X_traini,Y_traini)\n",
    "\n",
    "    Y_predicted = grid.predict(X_testi)\n",
    "    \n",
    "    print(metrics.accuracy_score(Y_testi, Y_predicted))\n",
    "    count = count - 1\n",
    "    "
   ]
  },
  {
   "cell_type": "code",
   "execution_count": null,
   "id": "c86fae1b",
   "metadata": {},
   "outputs": [],
   "source": []
  }
 ],
 "metadata": {
  "kernelspec": {
   "display_name": "Python 3 (ipykernel)",
   "language": "python",
   "name": "python3"
  },
  "language_info": {
   "codemirror_mode": {
    "name": "ipython",
    "version": 3
   },
   "file_extension": ".py",
   "mimetype": "text/x-python",
   "name": "python",
   "nbconvert_exporter": "python",
   "pygments_lexer": "ipython3",
   "version": "3.9.12"
  }
 },
 "nbformat": 4,
 "nbformat_minor": 5
}
